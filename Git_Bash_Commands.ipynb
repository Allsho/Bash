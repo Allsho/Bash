{
 "cells": [
  {
   "cell_type": "markdown",
   "metadata": {},
   "source": [
    "1. Data Backup Script:\n",
    "Automate the backup of critical data, databases, or configuration files to ensure data integrity and disaster recovery."
   ]
  },
  {
   "cell_type": "code",
   "execution_count": null,
   "metadata": {
    "vscode": {
     "languageId": "shellscript"
    }
   },
   "outputs": [],
   "source": [
    "#!/bin/bash\n",
    "\n",
    "# Define backup destination\n",
    "backup_dir=\"/path/to/backup_directory\"\n",
    "\n",
    "# Create a backup with timestamp\n",
    "backup_file=\"$backup_dir/backup-$(date +\\%Y\\%m\\%d\\%H\\%M\\%S).tar.gz\"\n",
    "\n",
    "# Archive and compress data\n",
    "tar -czvf $backup_file /path/to/data_to_backup"
   ]
  },
  {
   "cell_type": "markdown",
   "metadata": {},
   "source": [
    "2. Data Ingestion Script:\n",
    "Automate data ingestion from various sources, such as databases, APIs, or files, into your data warehouse or processing systems.\n",
    "-o data.csv is optional and will be saved to a .csv file. Remove if not needed."
   ]
  },
  {
   "cell_type": "code",
   "execution_count": 11,
   "metadata": {
    "vscode": {
     "languageId": "shellscript"
    }
   },
   "outputs": [
    {
     "ename": "SyntaxError",
     "evalue": "invalid syntax (361965598.py, line 10)",
     "output_type": "error",
     "traceback": [
      "\u001b[1;36m  Cell \u001b[1;32mIn[11], line 10\u001b[1;36m\u001b[0m\n\u001b[1;33m    sqlcmd -S $db_server -d $db_name -E -Q \"SELECT * FROM dbo.Personal\" -o data.csv\u001b[0m\n\u001b[1;37m              ^\u001b[0m\n\u001b[1;31mSyntaxError\u001b[0m\u001b[1;31m:\u001b[0m invalid syntax\n"
     ]
    }
   ],
   "source": [
    "#!/bin/bash\n",
    "\n",
    "# Database credentials\n",
    "db_server=\"DESKTOP-E6NM7UH\\SQLEXPRESS\"\n",
    "#db_user=\"your_username\"\n",
    "#db_password=\"your_password\"\n",
    "db_name=\"Finance\"\n",
    "\n",
    "# Run SQL query to extract data\n",
    "sqlcmd -S $db_server -d $db_name -E -Q \"SELECT * FROM dbo.Personal\" -o data.csv"
   ]
  },
  {
   "cell_type": "markdown",
   "metadata": {},
   "source": [
    "3. Data Cleanup Script:\n",
    "Automate data cleaning and transformation tasks to prepare raw data for analysis.\n",
    "The 's/old_value/new_value/g' part of the sed command is a substitution command:\n",
    "\n",
    "    s: Indicates that a substitution is being performed.\n",
    "    /: Separates the pattern to find and the replacement pattern.\n",
    "    old_value: The pattern you want to find in the text.\n",
    "    new_value: The text that will replace old_value.\n",
    "    g: Stands for \"global,\" indicating that this substitution should be applied to all occurrences of old_value in each line of the input file. Without g, it would only replace the first occurrence in each line.\n",
    "    input.csv: This is the input file. It's the data source where the sed command will perform the substitutions."
   ]
  },
  {
   "cell_type": "code",
   "execution_count": null,
   "metadata": {
    "vscode": {
     "languageId": "shellscript"
    }
   },
   "outputs": [],
   "source": [
    "#!/bin/bash\n",
    "\n",
    "# Clean and format data\n",
    "sed 's/old_value/new_value/g' input.csv > output.csv"
   ]
  },
  {
   "cell_type": "markdown",
   "metadata": {},
   "source": [
    "4. Data Validation Script:\n",
    "Create a script to validate data quality, check for missing values, duplicates, or anomalies in datasets."
   ]
  },
  {
   "cell_type": "code",
   "execution_count": null,
   "metadata": {
    "vscode": {
     "languageId": "shellscript"
    }
   },
   "outputs": [],
   "source": [
    "#!/bin/bash\n",
    "\n",
    "# Perform data validation checks\n",
    "awk -F',' 'BEGIN {OFS=\",\"} {if ($1 == \"\" || $2 == \"\") print \"Missing data: \" $0}' input.csv > validation_report.txt"
   ]
  },
  {
   "cell_type": "markdown",
   "metadata": {},
   "source": [
    "5. Data Migration Script:\n",
    "Automate the migration of data between different databases or systems."
   ]
  },
  {
   "cell_type": "code",
   "execution_count": null,
   "metadata": {
    "vscode": {
     "languageId": "shellscript"
    }
   },
   "outputs": [],
   "source": [
    "#!/bin/bash MYSQL\n",
    "\n",
    "# Database connection details\n",
    "source_db=\"source_database\"\n",
    "target_db=\"target_database\"\n",
    "\n",
    "# Migrate data\n",
    "mysqldump -u user -p source_db | mysql -u user -p target_db"
   ]
  },
  {
   "cell_type": "code",
   "execution_count": null,
   "metadata": {
    "vscode": {
     "languageId": "shellscript"
    }
   },
   "outputs": [],
   "source": [
    "#!/bin/bash SQL SERVER\n",
    "\n",
    "# Database connection details\n",
    "source_db=\"source_database\"\n",
    "target_db=\"target_database\"\n",
    "server=\"your_sql_server\"\n",
    "#user=\"your_sql_server_username\"\n",
    "#password=\"your_sql_server_password\"\n",
    "#Trusted Connection = -T\n",
    "'''-U ${user} -P ${password}'''\n",
    "\n",
    "# Migrate data from source_db to target_db\n",
    "bcp \"SELECT * FROM ${source_db}..your_table\" queryout datafile.txt -S ${server} -T -c -t'|'\n",
    "bcp ${target_db}..your_table in datafile.txt -S ${server} -U ${user} -P ${password} -T -c -t'|'"
   ]
  },
  {
   "cell_type": "markdown",
   "metadata": {},
   "source": [
    "6. Data Export Script:\n",
    "Automate data export from databases or systems to various formats (e.g., CSV, JSON, Excel) for reporting and analysis."
   ]
  },
  {
   "cell_type": "code",
   "execution_count": null,
   "metadata": {
    "vscode": {
     "languageId": "shellscript"
    }
   },
   "outputs": [],
   "source": [
    "#!/bin/bash\n",
    "\n",
    "# Export data to CSV\n",
    "mysql -u user -p database -e \"SELECT * FROM table\" | sed 's/\\t/,/g' > data.csv"
   ]
  },
  {
   "cell_type": "markdown",
   "metadata": {},
   "source": [
    "7. Data Archiving Script:\n",
    "Archive and compress old or infrequently used data to free up storage space."
   ]
  },
  {
   "cell_type": "code",
   "execution_count": null,
   "metadata": {
    "vscode": {
     "languageId": "shellscript"
    }
   },
   "outputs": [],
   "source": [
    "#!/bin/bash\n",
    "\n",
    "# Define archive destination\n",
    "archive_dir=\"/path/to/archive_directory\"\n",
    "\n",
    "# Archive old data\n",
    "tar -czvf $archive_dir/archive-$(date +\\%Y\\%m\\%d).tar.gz /path/to/old_data"
   ]
  },
  {
   "cell_type": "markdown",
   "metadata": {},
   "source": [
    "8. Data Synchronization Script:\n",
    "Automate the synchronization of data between production and backup systems to ensure data consistency and availability."
   ]
  },
  {
   "cell_type": "code",
   "execution_count": null,
   "metadata": {
    "vscode": {
     "languageId": "shellscript"
    }
   },
   "outputs": [],
   "source": [
    "#!/bin/bash\n",
    "\n",
    "# Sync data between two directories\n",
    "rsync -av /path/to/source_directory/ /path/to/backup_directory/"
   ]
  },
  {
   "cell_type": "markdown",
   "metadata": {},
   "source": [
    "9. Data Partitioning Script:\n",
    "Automatically partition and organize large datasets into manageable chunks for storage and processing."
   ]
  },
  {
   "cell_type": "code",
   "execution_count": null,
   "metadata": {
    "vscode": {
     "languageId": "shellscript"
    }
   },
   "outputs": [],
   "source": [
    "#!/bin/bash\n",
    "\n",
    "# Partition and move data files to appropriate directories\n",
    "for file in /path/to/data/*.csv; do\n",
    "  year=$(date -d $(stat -c %y \"$file\") +\\%Y)\n",
    "  month=$(date -d $(stat -c %y \"$file\") +\\%m)\n",
    "  target_dir=\"/path/to/partitioned_data/$year/$month\"\n",
    "  mkdir -p \"$target_dir\"\n",
    "  mv \"$file\" \"$target_dir\"\n",
    "done"
   ]
  },
  {
   "cell_type": "markdown",
   "metadata": {},
   "source": [
    "10. Data Quality Report Script:\n",
    "Generate automated data quality reports, including statistics, data profiling, and data anomalies."
   ]
  },
  {
   "cell_type": "code",
   "execution_count": null,
   "metadata": {
    "vscode": {
     "languageId": "shellscript"
    }
   },
   "outputs": [],
   "source": [
    "#!/bin/bash\n",
    "\n",
    "# Analyze data and generate a data quality report\n",
    "echo \"Data Quality Report - $(date)\" > data_quality_report.txt\n",
    "# Add data quality checks and analysis here"
   ]
  },
  {
   "cell_type": "markdown",
   "metadata": {},
   "source": [
    "11. Data Load Monitoring Script:\n",
    "Monitor data loads into databases or data warehouses, and send alerts if data loading processes fail or take too long."
   ]
  },
  {
   "cell_type": "code",
   "execution_count": null,
   "metadata": {
    "vscode": {
     "languageId": "shellscript"
    }
   },
   "outputs": [],
   "source": [
    "#!/bin/bash\n",
    "\n",
    "# Check data load status and send alerts if needed\n",
    "if ! pgrep -f \"data_load_script.py\" > /dev/null; then\n",
    "  # Send an alert\n",
    "  mail -s \"Data Load Failed\" admin@example.com <<< \"Data load script has failed.\"\n",
    "fi"
   ]
  },
  {
   "cell_type": "markdown",
   "metadata": {},
   "source": [
    "12. Data Encryption Script:\n",
    "Automate the encryption of sensitive data files for security and compliance."
   ]
  },
  {
   "cell_type": "code",
   "execution_count": null,
   "metadata": {
    "vscode": {
     "languageId": "shellscript"
    }
   },
   "outputs": [],
   "source": [
    "#!/bin/bash\n",
    "\n",
    "# Encrypt data files using GPG\n",
    "gpg --encrypt --recipient your@email.com data.txt"
   ]
  },
  {
   "cell_type": "markdown",
   "metadata": {},
   "source": [
    "13. Data Masking Script:\n",
    "Create scripts to apply data masking techniques to sensitive data for privacy protection."
   ]
  },
  {
   "cell_type": "code",
   "execution_count": null,
   "metadata": {
    "vscode": {
     "languageId": "shellscript"
    }
   },
   "outputs": [],
   "source": [
    "#!/bin/bash\n",
    "\n",
    "# Mask sensitive data in a file\n",
    "sed 's/123-45-6789/XXX-XX-XXXX/g' input.txt > masked_data.txt"
   ]
  },
  {
   "cell_type": "markdown",
   "metadata": {},
   "source": [
    "14. Data Export and Email Script:\n",
    "Automatically export data reports and email them to relevant stakeholders."
   ]
  },
  {
   "cell_type": "code",
   "execution_count": null,
   "metadata": {
    "vscode": {
     "languageId": "shellscript"
    }
   },
   "outputs": [],
   "source": [
    "#!/bin/bash\n",
    "\n",
    "# Export data to a CSV file\n",
    "mysql -u user -p database -e \"SELECT * FROM table\" | sed 's/\\t/,/g' > data.csv\n",
    "\n",
    "# Send the data as an email attachment\n",
    "echo \"Data report attached.\" | mail -s \"Data Report\" -a data.csv recipient@example.com"
   ]
  },
  {
   "cell_type": "markdown",
   "metadata": {},
   "source": [
    "15. Data Versioning Script:\n",
    "Create a script to version control datasets or schema changes in your data repositories."
   ]
  },
  {
   "cell_type": "code",
   "execution_count": null,
   "metadata": {
    "vscode": {
     "languageId": "shellscript"
    }
   },
   "outputs": [],
   "source": [
    "#!/bin/bash\n",
    "\n",
    "# Create a timestamped backup of the database schema\n",
    "mysqldump -u user -p database > schema-$(date +\\%Y\\%m\\%d).sql"
   ]
  },
  {
   "cell_type": "markdown",
   "metadata": {},
   "source": [
    "16. Data Schema Comparison Script:\n",
    "Automatically compare database schemas to detect differences and generate reports."
   ]
  },
  {
   "cell_type": "code",
   "execution_count": null,
   "metadata": {
    "vscode": {
     "languageId": "shellscript"
    }
   },
   "outputs": [],
   "source": [
    "#!/bin/bash\n",
    "\n",
    "# Compare two database schemas\n",
    "mysqldiff --server1=source_server --server2=target_server"
   ]
  },
  {
   "cell_type": "markdown",
   "metadata": {},
   "source": [
    "17. Data Purge Script:\n",
    "Automate data purging or archiving of old or expired records to maintain database performance."
   ]
  },
  {
   "cell_type": "code",
   "execution_count": null,
   "metadata": {
    "vscode": {
     "languageId": "shellscript"
    }
   },
   "outputs": [],
   "source": [
    "#!/bin/bash\n",
    "\n",
    "# Purge records older than a certain date\n",
    "mysql -u user -p database -e \"DELETE FROM table WHERE date < '2023-01-01'\""
   ]
  },
  {
   "cell_type": "markdown",
   "metadata": {},
   "source": [
    "18. Data Profiling Script:\n",
    "Generate data profiles that include statistics, data distribution, and data quality checks."
   ]
  },
  {
   "cell_type": "code",
   "execution_count": null,
   "metadata": {
    "vscode": {
     "languageId": "shellscript"
    }
   },
   "outputs": [],
   "source": [
    "#!/bin/bash\n",
    "\n",
    "# Create a data profiling report\n",
    "echo \"Data Profiling Report - $(date)\" > data_profile.txt\n",
    "# Add data profiling commands here"
   ]
  },
  {
   "cell_type": "markdown",
   "metadata": {},
   "source": [
    "19. Data Transformation Script:\n",
    "Automate data transformation tasks such as joining datasets, aggregating data, or reshaping data for reporting."
   ]
  },
  {
   "cell_type": "code",
   "execution_count": null,
   "metadata": {
    "vscode": {
     "languageId": "shellscript"
    }
   },
   "outputs": [],
   "source": [
    "Data Transformation Script:\n",
    "Automate data transformation tasks such as joining datasets, aggregating data, or reshaping data for reporting."
   ]
  },
  {
   "cell_type": "markdown",
   "metadata": {},
   "source": [
    "20. Data Migration Validation Script:\n",
    "Create a script to validate data consistency and integrity after migrating data between systems or databases."
   ]
  },
  {
   "cell_type": "code",
   "execution_count": null,
   "metadata": {
    "vscode": {
     "languageId": "shellscript"
    }
   },
   "outputs": [],
   "source": [
    "#!/bin/bash\n",
    "\n",
    "# Validate data integrity after migration\n",
    "diff source_data.csv target_data.csv"
   ]
  },
  {
   "cell_type": "markdown",
   "metadata": {},
   "source": [
    "21. Data Format Conversion Script:\n",
    "Automate the conversion of data between different formats (e.g., CSV to JSON, Excel to CSV) for compatibility with various data tools and platforms."
   ]
  },
  {
   "cell_type": "code",
   "execution_count": null,
   "metadata": {
    "vscode": {
     "languageId": "shellscript"
    }
   },
   "outputs": [],
   "source": [
    "#!/bin/bash\n",
    "\n",
    "# Convert CSV to JSON\n",
    "csv2json < input.csv > output.json"
   ]
  },
  {
   "cell_type": "markdown",
   "metadata": {},
   "source": [
    "22. Data Dictionary Generator Script:\n",
    "Automatically generate data dictionaries or documentation for datasets, including descriptions, field names, and data types."
   ]
  },
  {
   "cell_type": "code",
   "execution_count": null,
   "metadata": {
    "vscode": {
     "languageId": "shellscript"
    }
   },
   "outputs": [],
   "source": [
    "#!/bin/bash\n",
    "\n",
    "# Generate a data dictionary from a database schema\n",
    "mysql -u user -p database -e \"SHOW COLUMNS FROM table\" > data_dictionary.txt"
   ]
  },
  {
   "cell_type": "markdown",
   "metadata": {},
   "source": [
    "23. Data Encryption and Decryption Script:\n",
    "Create a script to automate data encryption and decryption for secure data storage and transmission."
   ]
  },
  {
   "cell_type": "code",
   "execution_count": null,
   "metadata": {
    "vscode": {
     "languageId": "shellscript"
    }
   },
   "outputs": [],
   "source": [
    "#!/bin/bash\n",
    "\n",
    "# Encrypt sensitive data before storage\n",
    "gpg --encrypt --recipient your@email.com data.txt\n",
    "\n",
    "# Decrypt data when needed\n",
    "gpg --decrypt data.gpg > decrypted_data.txt"
   ]
  }
 ],
 "metadata": {
  "kernelspec": {
   "display_name": "Python 3",
   "language": "python",
   "name": "python3"
  },
  "language_info": {
   "codemirror_mode": {
    "name": "ipython",
    "version": 3
   },
   "file_extension": ".py",
   "mimetype": "text/x-python",
   "name": "python",
   "nbconvert_exporter": "python",
   "pygments_lexer": "ipython3",
   "version": "3.10.0"
  }
 },
 "nbformat": 4,
 "nbformat_minor": 2
}
